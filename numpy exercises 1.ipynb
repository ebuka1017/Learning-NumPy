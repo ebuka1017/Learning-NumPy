{
 "cells": [
  {
   "cell_type": "markdown",
   "id": "a191799c",
   "metadata": {},
   "source": [
    "👨🏽‍💻✨"
   ]
  },
  {
   "cell_type": "markdown",
   "id": "55ae72d1",
   "metadata": {},
   "source": [
    "# NumPy key methods practice questions and solutions."
   ]
  },
  {
   "cell_type": "markdown",
   "id": "fb9d89b7",
   "metadata": {},
   "source": [
    "## Gone through the original task list and its solutions twice. This is my attempt at the same exercises."
   ]
  },
  {
   "cell_type": "markdown",
   "id": "e9c5bba6",
   "metadata": {},
   "source": [
    "For a few of the tasks in this notebook, I had to make reference to solutions in the original notes on Github by @ whenever I got stuck. But for the most part, I was able to sail through once I got a grasp of the common math and stat functions available in the NumPy lib."
   ]
  },
  {
   "cell_type": "code",
   "execution_count": 11,
   "id": "4f99448d",
   "metadata": {},
   "outputs": [],
   "source": [
    "import numpy as np"
   ]
  },
  {
   "cell_type": "markdown",
   "id": "8958b9fc",
   "metadata": {},
   "source": [
    "# 1"
   ]
  },
  {
   "cell_type": "code",
   "execution_count": 13,
   "id": "b3689aec",
   "metadata": {},
   "outputs": [],
   "source": [
    "#create a numpy array containing the values [1,2,3]"
   ]
  },
  {
   "cell_type": "code",
   "execution_count": 14,
   "id": "7d763565",
   "metadata": {},
   "outputs": [
    {
     "name": "stdout",
     "output_type": "stream",
     "text": [
      "[1 2 3]\n"
     ]
    }
   ],
   "source": [
    "a = np.array([1,2,3])\n",
    "print(a)"
   ]
  },
  {
   "cell_type": "code",
   "execution_count": 15,
   "id": "2dc2a3d1",
   "metadata": {},
   "outputs": [],
   "source": [
    "#create a two dimensional numpy array"
   ]
  },
  {
   "cell_type": "code",
   "execution_count": 16,
   "id": "73201eb0",
   "metadata": {},
   "outputs": [
    {
     "name": "stdout",
     "output_type": "stream",
     "text": [
      "[[1 2 3]\n",
      " [2 3 4]]\n"
     ]
    }
   ],
   "source": [
    "b = np.array([[1,2,3],[2,3,4]])\n",
    "print(b)"
   ]
  },
  {
   "cell_type": "code",
   "execution_count": 17,
   "id": "c4a3699d",
   "metadata": {},
   "outputs": [],
   "source": [
    "#create a 3D numpy array"
   ]
  },
  {
   "cell_type": "code",
   "execution_count": 18,
   "id": "6f03d3ef",
   "metadata": {},
   "outputs": [
    {
     "name": "stdout",
     "output_type": "stream",
     "text": [
      "[[[ 1  2  3]\n",
      "  [ 4  5  6]]\n",
      "\n",
      " [[ 6  7  8]\n",
      "  [ 9 10 11]]]\n"
     ]
    }
   ],
   "source": [
    "c = np.array([[[1,2,3],[4,5,6]],[[6,7,8],[9,10,11]]])\n",
    "print(c)"
   ]
  },
  {
   "cell_type": "markdown",
   "id": "43128e96",
   "metadata": {},
   "source": [
    "# 2"
   ]
  },
  {
   "cell_type": "code",
   "execution_count": 19,
   "id": "18fbbda4",
   "metadata": {},
   "outputs": [],
   "source": [
    "#check if all elements in the array are greater tha 0"
   ]
  },
  {
   "cell_type": "code",
   "execution_count": 20,
   "id": "d0b046d0",
   "metadata": {},
   "outputs": [
    {
     "name": "stdout",
     "output_type": "stream",
     "text": [
      "True\n"
     ]
    }
   ],
   "source": [
    "a = np.array([1,2,3])\n",
    "\n",
    "print(np.all(a>0))"
   ]
  },
  {
   "cell_type": "code",
   "execution_count": 21,
   "id": "8f6fc35e",
   "metadata": {},
   "outputs": [],
   "source": [
    "#check if any element in the numpy array [-1,0,1] is greater than 0"
   ]
  },
  {
   "cell_type": "code",
   "execution_count": 22,
   "id": "d53546a9",
   "metadata": {},
   "outputs": [
    {
     "name": "stdout",
     "output_type": "stream",
     "text": [
      "True\n"
     ]
    }
   ],
   "source": [
    "b = np.array([-1,0,1])\n",
    "\n",
    "print(np.any(b>0))"
   ]
  },
  {
   "cell_type": "code",
   "execution_count": 23,
   "id": "1987550f",
   "metadata": {},
   "outputs": [],
   "source": [
    "#check if any elements in the numpy array [[1,2],[3,4]] is greater than 0.5"
   ]
  },
  {
   "cell_type": "code",
   "execution_count": 24,
   "id": "cb21001c",
   "metadata": {},
   "outputs": [
    {
     "name": "stdout",
     "output_type": "stream",
     "text": [
      "True\n"
     ]
    }
   ],
   "source": [
    "c = np.array([[1,2],[3,4]])\n",
    "\n",
    "print(np.any(c>0.5))"
   ]
  },
  {
   "cell_type": "code",
   "execution_count": 25,
   "id": "0303dc46",
   "metadata": {},
   "outputs": [],
   "source": [
    "#check if any element in the array is true"
   ]
  },
  {
   "cell_type": "code",
   "execution_count": 26,
   "id": "251a8e17",
   "metadata": {},
   "outputs": [
    {
     "name": "stdout",
     "output_type": "stream",
     "text": [
      "True\n"
     ]
    }
   ],
   "source": [
    "d = np.array([-1,0,1])\n",
    "\n",
    "print(np.any(d))"
   ]
  },
  {
   "cell_type": "markdown",
   "id": "7ae791ca",
   "metadata": {},
   "source": [
    "# 3"
   ]
  },
  {
   "cell_type": "code",
   "execution_count": 27,
   "id": "3c60a46f",
   "metadata": {},
   "outputs": [],
   "source": [
    "#python function taking 1D array as input and returns a copy of the array with the data type converted to int"
   ]
  },
  {
   "cell_type": "code",
   "execution_count": 28,
   "id": "2228f040",
   "metadata": {},
   "outputs": [
    {
     "name": "stdout",
     "output_type": "stream",
     "text": [
      "a was: [1.  1.  6.6]\n",
      "now is: [1 1 6]\n"
     ]
    }
   ],
   "source": [
    "a = np.array([1.,1.,6.6])\n",
    "\n",
    "x = a.astype('int')\n",
    "\n",
    "print(\"a was:\", a)\n",
    "print(\"now is:\",x)"
   ]
  },
  {
   "cell_type": "code",
   "execution_count": 29,
   "id": "dd806eac",
   "metadata": {},
   "outputs": [],
   "source": [
    "#python function taking 2D array as input and returns a copy of the array \n",
    "#with the data type converted to float"
   ]
  },
  {
   "cell_type": "code",
   "execution_count": 30,
   "id": "20e55fff",
   "metadata": {},
   "outputs": [
    {
     "name": "stdout",
     "output_type": "stream",
     "text": [
      "b was: [[8 8 5]\n",
      " [3 6 4]\n",
      " [5 3 7]]\n",
      "\n",
      "now is: [[8. 8. 5.]\n",
      " [3. 6. 4.]\n",
      " [5. 3. 7.]]\n"
     ]
    }
   ],
   "source": [
    "b = np.random.randint(1,10,(3,3))\n",
    "\n",
    "y = b.astype('float')\n",
    "\n",
    "print('b was:',b)\n",
    "print()\n",
    "print('now is:',y)"
   ]
  },
  {
   "cell_type": "code",
   "execution_count": 31,
   "id": "102fdd55",
   "metadata": {},
   "outputs": [],
   "source": [
    "#You have an array a of size (3,3) that contains random float values between -1 and 1. \n",
    "#create a new array b of the same size, where each element of b is clipped to a range between -0.5 and 0.5. \n",
    "#Print both arrays a and b to compare the original and clipped values."
   ]
  },
  {
   "cell_type": "code",
   "execution_count": 32,
   "id": "1fb0a31a",
   "metadata": {},
   "outputs": [
    {
     "name": "stdout",
     "output_type": "stream",
     "text": [
      "a is: [[ 0.87080918  0.76106736  0.91790821]\n",
      " [-0.73988417 -0.6088649   0.92175379]\n",
      " [ 0.6559365   0.02813901 -0.11602005]]\n",
      "\n",
      "b is: [[ 0.5         0.5         0.5       ]\n",
      " [-0.5        -0.5         0.5       ]\n",
      " [ 0.5         0.02813901 -0.11602005]]\n"
     ]
    }
   ],
   "source": [
    "a = np.random.uniform(-1,1,(3,3))\n",
    "\n",
    "b = np.clip(a,-0.5,0.5 )\n",
    "\n",
    "print('a is:',a)\n",
    "print()\n",
    "print('b is:',b)"
   ]
  },
  {
   "cell_type": "code",
   "execution_count": 33,
   "id": "e7a3c8f0",
   "metadata": {},
   "outputs": [],
   "source": [
    "#You have an array a of size (5,5) that contains random integer values between 1 and 100.\n",
    "#create a new array b of the same size, where each element of b is clipped to a range between \n",
    "#the 25th and 75th percentile of the values in a. Print both arrays a and b to compare the original and clipped values."
   ]
  },
  {
   "cell_type": "code",
   "execution_count": 34,
   "id": "a63dfcbd",
   "metadata": {},
   "outputs": [
    {
     "name": "stdout",
     "output_type": "stream",
     "text": [
      "a is: [[96 99 86 67 14]\n",
      " [78 95 17 34 26]\n",
      " [95 22 34 92 59]\n",
      " [ 3 30 49 49 18]\n",
      " [55 26 21 97  3]]\n",
      "\n",
      "25th percentile of a is: 22.0\n",
      "\n",
      "75th percemtile of a is: 86.0\n",
      "\n",
      "b is: [[86. 86. 86. 67. 22.]\n",
      " [78. 86. 22. 34. 26.]\n",
      " [86. 22. 34. 86. 59.]\n",
      " [22. 30. 49. 49. 22.]\n",
      " [55. 26. 22. 86. 22.]]\n"
     ]
    }
   ],
   "source": [
    "a = np.random.randint(1,101,(5,5))\n",
    "\n",
    "p25 = np.percentile(a, 25)\n",
    "p75 = np.percentile(a, 75)\n",
    "\n",
    "b = np.clip(a, p25,p75)\n",
    "\n",
    "print('a is:',a)\n",
    "print()\n",
    "print('25th percentile of a is:', p25)\n",
    "print()\n",
    "print('75th percemtile of a is:', p75)\n",
    "print()\n",
    "print('b is:',b)"
   ]
  },
  {
   "cell_type": "markdown",
   "id": "9930e167",
   "metadata": {},
   "source": [
    "# 4"
   ]
  },
  {
   "cell_type": "code",
   "execution_count": 35,
   "id": "997c2e98",
   "metadata": {},
   "outputs": [],
   "source": [
    "#Create an array a of size (3,3) with random integer values between 0 and 9. create a new array b that is a copy of \n",
    "#a (numpy.copy()). Modify the value of an element in b, and then print both a and b to compare the original and \n",
    "#modified values. What do you notice about the changes to b?"
   ]
  },
  {
   "cell_type": "code",
   "execution_count": 36,
   "id": "2ae79139",
   "metadata": {},
   "outputs": [
    {
     "name": "stdout",
     "output_type": "stream",
     "text": [
      "a is: [[7 3 6]\n",
      " [1 3 1]\n",
      " [2 1 3]]\n",
      "\n",
      "OG b is: [[7 3 6]\n",
      " [1 3 1]\n",
      " [2 1 3]]\n",
      "\n",
      "modified b: [[ 7  3  6]\n",
      " [ 1  3 75]\n",
      " [ 2  1  3]]\n"
     ]
    }
   ],
   "source": [
    "a = np.random.randint(1,10,(3,3))\n",
    "print('a is:',a)\n",
    "print()\n",
    "\n",
    "b = np.copy(a)\n",
    "print('OG b is:', b)\n",
    "print()\n",
    "\n",
    "b[1,2]=75\n",
    "print('modified b:',b)"
   ]
  },
  {
   "cell_type": "code",
   "execution_count": 37,
   "id": "7bedf225",
   "metadata": {},
   "outputs": [],
   "source": [
    "#Create an array a of size (5,5) with random float values between 0 and 1. create a new array b that is a copy of a. \n",
    "#Modify the values of elements in a such that they are all 1.0. Then, print both a and b to confirm that only \n",
    "#a was modified and b remains unchanged."
   ]
  },
  {
   "cell_type": "code",
   "execution_count": 95,
   "id": "c677d142",
   "metadata": {},
   "outputs": [
    {
     "name": "stdout",
     "output_type": "stream",
     "text": [
      "a is:\n",
      " [[0.12128006 0.33164533 0.82825713 0.88050709 0.65894989]\n",
      " [0.65524086 0.78489892 0.91303302 0.76878416 0.68053378]\n",
      " [0.33033683 0.77891225 0.32814061 0.47106281 0.79273302]\n",
      " [0.91028773 0.85208725 0.76908663 0.19786933 0.54236139]\n",
      " [0.34988914 0.80826262 0.29732361 0.7128735  0.2311459 ]]\n",
      "\n",
      "b is:\n",
      " [[0.12128006 0.33164533 0.82825713 0.88050709 0.65894989]\n",
      " [0.65524086 0.78489892 0.91303302 0.76878416 0.68053378]\n",
      " [0.33033683 0.77891225 0.32814061 0.47106281 0.79273302]\n",
      " [0.91028773 0.85208725 0.76908663 0.19786933 0.54236139]\n",
      " [0.34988914 0.80826262 0.29732361 0.7128735  0.2311459 ]]\n",
      "\n",
      "modified a:\n",
      " [[1. 1. 1. 1. 1.]\n",
      " [1. 1. 1. 1. 1.]\n",
      " [1. 1. 1. 1. 1.]\n",
      " [1. 1. 1. 1. 1.]\n",
      " [1. 1. 1. 1. 1.]]\n",
      "\n",
      "b is still:\n",
      " [[0.12128006 0.33164533 0.82825713 0.88050709 0.65894989]\n",
      " [0.65524086 0.78489892 0.91303302 0.76878416 0.68053378]\n",
      " [0.33033683 0.77891225 0.32814061 0.47106281 0.79273302]\n",
      " [0.91028773 0.85208725 0.76908663 0.19786933 0.54236139]\n",
      " [0.34988914 0.80826262 0.29732361 0.7128735  0.2311459 ]]\n"
     ]
    }
   ],
   "source": [
    "a = np.random.rand(5,5)\n",
    "print('a is:\\n',a)\n",
    "print()\n",
    "\n",
    "b = np.copy(a)\n",
    "print('b is:\\n',b)\n",
    "print()\n",
    "\n",
    "a = (a-a)+1.0 #couldn't quite figure out any other way to change all of a's elements at once using their index, \n",
    "                    #so I went with this for now.(hopefully, there's an answer for that in the task solution 😅)\n",
    "    \n",
    "print('modified a:\\n',a)\n",
    "print()\n",
    "print('b is still:\\n', b)"
   ]
  },
  {
   "cell_type": "markdown",
   "id": "718c6a1f",
   "metadata": {},
   "source": [
    "# 5"
   ]
  },
  {
   "cell_type": "code",
   "execution_count": 39,
   "id": "05335f5c",
   "metadata": {},
   "outputs": [],
   "source": [
    "#Create an array a of size (4,4) with random integer values between 1 and 10. compute the cumulative product \n",
    "#of elements in a along both axes. Print the resulting arrays to compare the intermediate and final results \n",
    "#of the cumulative product."
   ]
  },
  {
   "cell_type": "code",
   "execution_count": 40,
   "id": "dfad86c8",
   "metadata": {},
   "outputs": [
    {
     "name": "stdout",
     "output_type": "stream",
     "text": [
      "a is: [[10  1  1  7]\n",
      " [ 2  4  2  4]\n",
      " [ 6  2  7  1]\n",
      " [ 8  2  2  2]]\n",
      "\n",
      "axis 1 is: [[10 10 10 70]\n",
      " [ 2  8 16 64]\n",
      " [ 6 12 84 84]\n",
      " [ 8 16 32 64]]\n",
      "\n",
      "axis 2 is: [[ 10   1   1   7]\n",
      " [ 20   4   2  28]\n",
      " [120   8  14  28]\n",
      " [960  16  28  56]]\n"
     ]
    }
   ],
   "source": [
    "a = np.random.randint(1,11,(4,4))\n",
    "print('a is:',a)\n",
    "print()\n",
    "cp1 = np.cumprod(a, axis=1)\n",
    "cp2 = np.cumprod(a, axis=0)\n",
    "\n",
    "print('axis 1 is:', cp1)\n",
    "print()\n",
    "print('axis 2 is:', cp2)\n"
   ]
  },
  {
   "cell_type": "code",
   "execution_count": 41,
   "id": "cd535b86",
   "metadata": {},
   "outputs": [],
   "source": [
    "#Create an array a of size (3,3) with random float values between 0 and 1. compute the cumulative product \n",
    "#of elements in a along the first axis. Then, use np.sum() to compute the sum of elements in the resulting array. \n",
    "#Compare the sum to the final element of the original a."
   ]
  },
  {
   "cell_type": "code",
   "execution_count": 42,
   "id": "ac7e9043",
   "metadata": {},
   "outputs": [
    {
     "name": "stdout",
     "output_type": "stream",
     "text": [
      "a is: [[0.11583274 0.02145875 0.2271233 ]\n",
      " [0.24221932 0.36611778 0.61579601]\n",
      " [0.28853609 0.32672523 0.25344241]]\n",
      "\n",
      "axis 1: [[0.11583274 0.00248563 0.00056454]\n",
      " [0.24221932 0.0886808  0.05460928]\n",
      " [0.28853609 0.09427202 0.02389253]]\n",
      "\n",
      "sum of a1 elements: 1.0963617245248014\n"
     ]
    }
   ],
   "source": [
    "a = np.random.rand(3,3)\n",
    "\n",
    "axis1 = np.cumprod(a, axis=1)\n",
    "\n",
    "fsum = a[:,2].sum()\n",
    "\n",
    "print('a is:',a)\n",
    "print()\n",
    "print('axis 1:',axis1)\n",
    "print()\n",
    "print('sum of a1 elements:',fsum)"
   ]
  },
  {
   "cell_type": "markdown",
   "id": "c7795b47",
   "metadata": {},
   "source": [
    "# 6"
   ]
  },
  {
   "cell_type": "code",
   "execution_count": 43,
   "id": "fed098be",
   "metadata": {},
   "outputs": [],
   "source": [
    "#Create an array a of size (4,4) with random integer values between 1 and 10. compute the cumulative sum of \n",
    "#elements in a along both axes. Print the resulting arrays to compare the intermediate and final results of \n",
    "#the cumulative sum."
   ]
  },
  {
   "cell_type": "code",
   "execution_count": 44,
   "id": "1a93f15a",
   "metadata": {
    "scrolled": true
   },
   "outputs": [
    {
     "name": "stdout",
     "output_type": "stream",
     "text": [
      "[[ 3 10  5  7]\n",
      " [ 5  6  2  5]\n",
      " [ 3  2  2  9]\n",
      " [ 8  4  6  6]]\n",
      "\n",
      "[[ 3 13 18 25]\n",
      " [ 5 11 13 18]\n",
      " [ 3  5  7 16]\n",
      " [ 8 12 18 24]]\n",
      "\n",
      "[[ 3 10  5  7]\n",
      " [ 8 16  7 12]\n",
      " [11 18  9 21]\n",
      " [19 22 15 27]]\n"
     ]
    }
   ],
   "source": [
    "a = np.random.randint(1,11,(4,4))\n",
    "axis1 = np.cumsum(a,axis=1)\n",
    "axis2 = np.cumsum(a,axis=0)\n",
    "\n",
    "print(a)\n",
    "print()\n",
    "print(axis1)\n",
    "print()\n",
    "print(axis2)\n"
   ]
  },
  {
   "cell_type": "markdown",
   "id": "471f177f",
   "metadata": {},
   "source": [
    "## get back to this soon 👇🏽👇🏽👇🏽"
   ]
  },
  {
   "cell_type": "code",
   "execution_count": 45,
   "id": "eb8c7e65",
   "metadata": {},
   "outputs": [],
   "source": [
    "#Create an array a of size (3,3) with random float values between 0 and 1. compute the cumulative sum \n",
    "#of elements in a along the second axis. Then, use np.mean() to compute the mean of elements in the resulting array. \n",
    "#Compare the mean to the final row of the original a, also the final row of the cumulative sum."
   ]
  },
  {
   "cell_type": "code",
   "execution_count": 46,
   "id": "ddf78d4d",
   "metadata": {},
   "outputs": [
    {
     "name": "stdout",
     "output_type": "stream",
     "text": [
      "[[0.27241166 0.40751523 0.73152313]\n",
      " [0.57813848 0.83873874 0.68137408]\n",
      " [0.39805172 0.20620553 0.04341546]]\n",
      "\n",
      "[[0.27241166 0.40751523 0.73152313]\n",
      " [0.85055015 1.24625396 1.41289722]\n",
      " [1.24860187 1.45245949 1.45631268]]\n",
      "\n",
      "0.6476727094276274\n",
      "\n",
      "4.157374035136968\n"
     ]
    }
   ],
   "source": [
    "a = np.random.rand(3,3)\n",
    "b = np.cumsum(a, axis=0)\n",
    "\n",
    "print(a)\n",
    "print()\n",
    "print(b)\n",
    "print()\n",
    "print( np.sum(a[-1,:]))\n",
    "print()\n",
    "print( np.sum(b[-1,:]))\n",
    "\n",
    "\n",
    "\n"
   ]
  },
  {
   "cell_type": "markdown",
   "id": "665042e8",
   "metadata": {},
   "source": [
    "# 7"
   ]
  },
  {
   "cell_type": "code",
   "execution_count": 47,
   "id": "d5b06f77",
   "metadata": {},
   "outputs": [],
   "source": [
    "#Create a 2D array a of size (5,5) with random integer values between 1 and 10. extract the main diagonal of \n",
    "#a and store it in a 1D array d. Then, compute the sum of elements in d. Compare the sum to the sum of elements \n",
    "#in the anti-diagonal of a."
   ]
  },
  {
   "cell_type": "code",
   "execution_count": 58,
   "id": "33ada07e",
   "metadata": {
    "scrolled": true
   },
   "outputs": [
    {
     "name": "stdout",
     "output_type": "stream",
     "text": [
      "a is:\n",
      " [[ 6  1  2  1  8]\n",
      " [ 5  1  4  6  2]\n",
      " [ 2 10  8  8  7]\n",
      " [10  1  6  4  7]\n",
      " [ 2  6  1  4  7]]\n",
      "\n",
      "diagonal is: [6 1 8 4 7]\n",
      "\n",
      "anti diagonal is: [8 6 8 1 2]\n",
      "\n",
      "sum of diagonal is: 26\n",
      "\n",
      "sum of anti diagonal is: 25\n"
     ]
    }
   ],
   "source": [
    "a = np.random.randint(1,11,(5,5))\n",
    "print('a is:\\n',a)\n",
    "print()\n",
    "\n",
    "d = np.diagonal(a)\n",
    "print('diagonal is:',d)\n",
    "print()\n",
    "\n",
    "#first attempt:\n",
    "#anti_d = np.fliplr([np.diagonal(a)]) \n",
    "#result: reversed the original diagonal instead of getting the anti...\n",
    "\n",
    "#correction\n",
    "anti_d = np.diagonal(np.fliplr(a))\n",
    "print('anti diagonal is:',anti_d)\n",
    "print()\n",
    "\n",
    "sumD = np.sum(d)\n",
    "sumAD = np.sum(anti_d)\n",
    "\n",
    "print('sum of diagonal is:',sumD)\n",
    "print()\n",
    "print('sum of anti diagonal is:',sumAD)"
   ]
  },
  {
   "cell_type": "markdown",
   "id": "84a71335",
   "metadata": {},
   "source": [
    "# 8"
   ]
  },
  {
   "cell_type": "code",
   "execution_count": 56,
   "id": "32b83081",
   "metadata": {},
   "outputs": [],
   "source": [
    "#Create a 4x4 NumPy array filled with the value 7"
   ]
  },
  {
   "cell_type": "code",
   "execution_count": 62,
   "id": "30a26ce1",
   "metadata": {},
   "outputs": [
    {
     "name": "stdout",
     "output_type": "stream",
     "text": [
      "[[7 7 7 7]\n",
      " [7 7 7 7]\n",
      " [7 7 7 7]\n",
      " [7 7 7 7]]\n"
     ]
    }
   ],
   "source": [
    "a = np.full((4,4),7)\n",
    "print(a)"
   ]
  },
  {
   "cell_type": "code",
   "execution_count": 63,
   "id": "d0109b9e",
   "metadata": {},
   "outputs": [],
   "source": [
    "#Create a 2D NumPy array of size (3, 5) with all elements initialized to -1"
   ]
  },
  {
   "cell_type": "code",
   "execution_count": 64,
   "id": "f1aef2ab",
   "metadata": {},
   "outputs": [
    {
     "name": "stdout",
     "output_type": "stream",
     "text": [
      "[[-1 -1 -1 -1 -1]\n",
      " [-1 -1 -1 -1 -1]\n",
      " [-1 -1 -1 -1 -1]]\n"
     ]
    }
   ],
   "source": [
    "a = np.full((3,5),-1)\n",
    "print(a)"
   ]
  },
  {
   "cell_type": "code",
   "execution_count": 65,
   "id": "50f6216b",
   "metadata": {},
   "outputs": [],
   "source": [
    "#Create a NumPy array of size (2, 2) filled with the value 6. \n",
    "#Then create a new array of size (4,1) where the elements are ordered in row-major order."
   ]
  },
  {
   "cell_type": "code",
   "execution_count": 68,
   "id": "27e6b1f4",
   "metadata": {
    "scrolled": true
   },
   "outputs": [
    {
     "name": "stdout",
     "output_type": "stream",
     "text": [
      "[[6 6]\n",
      " [6 6]]\n",
      "\n",
      "[[5]\n",
      " [4]\n",
      " [3]\n",
      " [2]\n",
      " [1]]\n"
     ]
    }
   ],
   "source": [
    "a = np.full((2,2),6)\n",
    "print(a)\n",
    "print()\n",
    "b = np.array([[5],[4],[3],[2],[1]])\n",
    "print(np.sort(b,axis=1))\n"
   ]
  },
  {
   "cell_type": "markdown",
   "id": "ace8199b",
   "metadata": {},
   "source": [
    "# 9"
   ]
  },
  {
   "cell_type": "code",
   "execution_count": 69,
   "id": "a0485d88",
   "metadata": {},
   "outputs": [],
   "source": [
    "#Write a function that takes a 2D numpy array as input and flattens it. The function should then return a \n",
    "#new 1D numpy array with the same elements as the flattened 2D array."
   ]
  },
  {
   "cell_type": "code",
   "execution_count": 83,
   "id": "39abc8b4",
   "metadata": {},
   "outputs": [
    {
     "name": "stdout",
     "output_type": "stream",
     "text": [
      "a is:\n",
      " [[65 77  1 63 46 48]\n",
      " [20 59 45 47 39 38]\n",
      " [48 25 99  8 61 33]\n",
      " [25 76 16 60 81 98]\n",
      " [91 29 72 24 97 75]\n",
      " [40  3 59 47 69 84]]\n",
      "\n",
      "flattened:\n",
      " [65 77  1 63 46 48 20 59 45 47 39 38 48 25 99  8 61 33 25 76 16 60 81 98\n",
      " 91 29 72 24 97 75 40  3 59 47 69 84]\n"
     ]
    }
   ],
   "source": [
    "def flat(array):\n",
    "    a = array.flatten()\n",
    "    return a\n",
    "\n",
    "a = np.random.randint(1,101,(6,6))\n",
    "print('a is:\\n',a)\n",
    "print()\n",
    "print('flattened:\\n',flat(a))"
   ]
  },
  {
   "cell_type": "code",
   "execution_count": 93,
   "id": "80f74114",
   "metadata": {},
   "outputs": [],
   "source": [
    "#Create a 3D numpy array of shape (2, 3, 4) filled with random integers. flatten the array and then reshape \n",
    "#the flattened array into a new array of shape (3, 8)."
   ]
  },
  {
   "cell_type": "code",
   "execution_count": 85,
   "id": "f7486de4",
   "metadata": {},
   "outputs": [
    {
     "name": "stdout",
     "output_type": "stream",
     "text": [
      "a is:\n",
      " [[[22  6 13  4]\n",
      "  [ 1  4 23  3]\n",
      "  [ 8 10  3 24]]\n",
      "\n",
      " [[ 3  7  1  7]\n",
      "  [17 18  2 18]\n",
      "  [ 1 17 21 14]]]\n",
      "\n",
      "flattened:\n",
      " [22  6 13  4  1  4 23  3  8 10  3 24  3  7  1  7 17 18  2 18  1 17 21 14]\n",
      "\n",
      "reshaped:\n",
      " [[22  6 13  4  1  4 23  3]\n",
      " [ 8 10  3 24  3  7  1  7]\n",
      " [17 18  2 18  1 17 21 14]]\n"
     ]
    }
   ],
   "source": [
    "a = np.random.randint(1,25,(2,3,4))\n",
    "print('a is:\\n',a)\n",
    "print()\n",
    "b = a.flatten()\n",
    "print('flattened:\\n',b)\n",
    "print()\n",
    "rs = b.reshape(3,8)\n",
    "print('reshaped:\\n',rs)"
   ]
  },
  {
   "cell_type": "markdown",
   "id": "8394f73f",
   "metadata": {},
   "source": [
    "# 10"
   ]
  },
  {
   "cell_type": "code",
   "execution_count": 96,
   "id": "fa023718",
   "metadata": {},
   "outputs": [],
   "source": [
    "#Create a 1D numpy array filled with random integers. retrieve the first element of the array and store it in a variable."
   ]
  },
  {
   "cell_type": "code",
   "execution_count": 106,
   "id": "01e087d1",
   "metadata": {},
   "outputs": [
    {
     "name": "stdout",
     "output_type": "stream",
     "text": [
      "a is:\n",
      " [[2 6 8 4 3 5 6]]\n",
      "\n",
      "first element in array a is: 2\n"
     ]
    }
   ],
   "source": [
    "a = np.random.randint(1,11,(1,7))\n",
    "print('a is:\\n',a)\n",
    "print()\n",
    "\n",
    "b = a.item(0)\n",
    "print('first element in array a is:',b)"
   ]
  },
  {
   "cell_type": "code",
   "execution_count": 108,
   "id": "cb28c790",
   "metadata": {},
   "outputs": [],
   "source": [
    "#Create a 3D numpy array of shape (2, 3, 4) filled with random integers. retrieve a specific element of the \n",
    "#array and store it in a variable."
   ]
  },
  {
   "cell_type": "code",
   "execution_count": 120,
   "id": "67fa41c8",
   "metadata": {},
   "outputs": [
    {
     "name": "stdout",
     "output_type": "stream",
     "text": [
      "a is:\n",
      " [[[17  4  4 17]\n",
      "  [ 2 13  3  2]\n",
      "  [ 1 17 13 23]]\n",
      "\n",
      " [[ 8 13 13 24]\n",
      "  [19 24  1  4]\n",
      "  [ 5  6 10 18]]]\n",
      "\n",
      "third element in 2nd row of first array in a is: 3\n",
      "\n",
      "third element in 2nd row of first array in a is: 3\n"
     ]
    }
   ],
   "source": [
    "a = np.random.randint(1,25,(2,3,4))\n",
    "print('a is:\\n',a)\n",
    "print()\n",
    "\n",
    "b = a[0,1,2]\n",
    "print('third element in 2nd row of first array in a is:',b)\n",
    "print()\n",
    "\n",
    "#OR\n",
    "\n",
    "c = a.item(6)\n",
    "print('third element in 2nd row of first array in a is:',c)\n"
   ]
  },
  {
   "cell_type": "markdown",
   "id": "9d94d003",
   "metadata": {},
   "source": [
    "# 11"
   ]
  },
  {
   "cell_type": "code",
   "execution_count": 121,
   "id": "d8063ee7",
   "metadata": {},
   "outputs": [],
   "source": [
    "#Given a 2D array arr, find the minimum value in each row and find the maximum value in each column."
   ]
  },
  {
   "cell_type": "code",
   "execution_count": 122,
   "id": "fe34a854",
   "metadata": {},
   "outputs": [
    {
     "name": "stdout",
     "output_type": "stream",
     "text": [
      "arr is:\n",
      " [[18 42 29 28 13 15]\n",
      " [19 39 62 26 67 21]\n",
      " [25 16 12 46 12 99]\n",
      " [66 49 59 55 35 36]\n",
      " [80 58 46 26 93 40]\n",
      " [74 86 20 44 26 80]]\n",
      "\n",
      "minimum value in each row is:\n",
      " [13 19 12 35 26 20]\n",
      "\n",
      "minimum value in each column is:\n",
      " [18 16 12 26 12 15]\n"
     ]
    }
   ],
   "source": [
    "arr = np.random.randint(1,101,(6,6))\n",
    "\n",
    "col_min = np.min(arr,axis=0)\n",
    "row_min = np.min(arr,axis=1)\n",
    "\n",
    "print('arr is:\\n',arr)\n",
    "print()\n",
    "print('minimum value in each row is:\\n',row_min)\n",
    "print()\n",
    "print('minimum value in each column is:\\n',col_min)\n"
   ]
  },
  {
   "cell_type": "code",
   "execution_count": 123,
   "id": "0f86f293",
   "metadata": {},
   "outputs": [],
   "source": [
    "#Create a random array of size 10x10 using np.random.rand. find the minimum and maximum values in the entire array."
   ]
  },
  {
   "cell_type": "code",
   "execution_count": 124,
   "id": "c879f363",
   "metadata": {},
   "outputs": [
    {
     "name": "stdout",
     "output_type": "stream",
     "text": [
      "a is:\n",
      " [[0.15505019 0.52725216 0.59577837 0.79754939 0.5692203  0.51579911\n",
      "  0.95716836 0.95361542 0.91885134 0.6925835 ]\n",
      " [0.68998307 0.48076734 0.67567467 0.73633339 0.18310667 0.60993292\n",
      "  0.73241722 0.20362442 0.14554066 0.47102093]\n",
      " [0.4053594  0.04286274 0.66167506 0.18221031 0.35984804 0.85944959\n",
      "  0.27299886 0.03847685 0.3892247  0.99035465]\n",
      " [0.24145224 0.68777994 0.4284998  0.69022528 0.44742579 0.98087063\n",
      "  0.11196485 0.5824324  0.30992464 0.0544414 ]\n",
      " [0.08580078 0.67832319 0.5075495  0.34320364 0.09114328 0.14684277\n",
      "  0.43709758 0.06513179 0.35192091 0.1752219 ]\n",
      " [0.63382644 0.39013521 0.50830889 0.5145318  0.72424404 0.88612149\n",
      "  0.86580115 0.30172431 0.24867061 0.23619005]\n",
      " [0.10677539 0.44985391 0.53634802 0.42009671 0.99434678 0.63710159\n",
      "  0.23963437 0.33383495 0.15738243 0.08849655]\n",
      " [0.5739352  0.76768295 0.79570934 0.06100298 0.3208769  0.46287721\n",
      "  0.9793714  0.14807468 0.55901987 0.35159485]\n",
      " [0.02932451 0.26319645 0.8673651  0.16469017 0.1702996  0.95080333\n",
      "  0.27011188 0.21476408 0.36371203 0.68438833]\n",
      " [0.74193481 0.36572248 0.05052784 0.10081381 0.40314441 0.27043683\n",
      "  0.76049327 0.04422671 0.57562919 0.36711511]]\n",
      "\n",
      "max value in a is: 0.9943467827645028\n",
      "\n",
      "min value in a is: 0.029324506538838557\n"
     ]
    }
   ],
   "source": [
    "a = np.random.rand(10,10)\n",
    "\n",
    "max_v = np.max(a)\n",
    "min_v = np.min(a)\n",
    "\n",
    "print('a is:\\n',a)\n",
    "print()\n",
    "print('max value in a is:',max_v)\n",
    "print()\n",
    "print('min value in a is:',min_v)\n"
   ]
  },
  {
   "cell_type": "markdown",
   "id": "fb6d54e9",
   "metadata": {},
   "source": [
    "# 12"
   ]
  },
  {
   "cell_type": "code",
   "execution_count": 125,
   "id": "7365acf3",
   "metadata": {},
   "outputs": [],
   "source": [
    "#Create a numpy array a with random integers between 1 and 10. Calculate the mean of a."
   ]
  },
  {
   "cell_type": "code",
   "execution_count": 128,
   "id": "544319fb",
   "metadata": {},
   "outputs": [
    {
     "name": "stdout",
     "output_type": "stream",
     "text": [
      "a1 is:\n",
      " [[ 1  2  7  5  4  1]\n",
      " [ 4  6  9  1  3  3]\n",
      " [ 8 10  5  1  8  4]\n",
      " [ 9  5 10  4  3 10]]\n",
      "\n",
      "mean of array a1 is: 5.125\n",
      "mean of array a2 is: 4.791666666666667\n"
     ]
    }
   ],
   "source": [
    "a1 = np.random.randint(1,11,(4,6))\n",
    "\n",
    "a1_mean = np.mean(a1)\n",
    "print('a1 is:\\n',a1)\n",
    "print()\n",
    "print('mean of array a1 is:',a1_mean)\n",
    "\n",
    "#OR\n",
    "\n",
    "print(f'mean of array a2 is: {np.random.randint(1,11,(4,6)).mean()}')\n",
    "#refactored here ☝🏽 according to practice question solution."
   ]
  },
  {
   "cell_type": "code",
   "execution_count": 129,
   "id": "1912df95",
   "metadata": {},
   "outputs": [],
   "source": [
    "#Create a 2D numpy array b with random floats between 0 and 1. Calculate the mean of each row and each column."
   ]
  },
  {
   "cell_type": "code",
   "execution_count": 163,
   "id": "746608be",
   "metadata": {},
   "outputs": [
    {
     "name": "stdout",
     "output_type": "stream",
     "text": [
      "b is:\n",
      " [[0.24713577 0.40184937 0.9453703  0.13854687]\n",
      " [0.66180961 0.18457082 0.11732484 0.1507988 ]\n",
      " [0.61182352 0.2252381  0.13282842 0.98430269]\n",
      " [0.5547619  0.37200783 0.79485085 0.61583839]]\n",
      "\n",
      "mean of rows 1-4 is:\n",
      " [0.43322558 0.27862602 0.48854818 0.58436474]\n",
      "\n",
      "mean of columns 1-4 is:\n",
      " [0.5188827  0.29591653 0.4975936  0.47237168]\n"
     ]
    }
   ],
   "source": [
    "b = np.random.rand(4,4)\n",
    "\n",
    "r_mean = np.mean(b,axis=1)\n",
    "c_mean = np.mean(b, axis=0)\n",
    "\n",
    "print('b is:\\n',b)\n",
    "print()\n",
    "print('mean of rows 1-4 is:\\n',r_mean)\n",
    "print()\n",
    "print('mean of columns 1-4 is:\\n',c_mean)\n"
   ]
  },
  {
   "cell_type": "markdown",
   "id": "71b20d43",
   "metadata": {},
   "source": [
    "(was stuck up there for a while trying to calculate the mean for each row one at a time🤦🏽‍♂️😑)"
   ]
  },
  {
   "cell_type": "code",
   "execution_count": 166,
   "id": "0252646f",
   "metadata": {},
   "outputs": [],
   "source": [
    "#Create a numpy array e of shape (4, 4) with random integers between 1 and 10. \n",
    "#Calculate the mean of the elements in the diagonal of e."
   ]
  },
  {
   "cell_type": "code",
   "execution_count": null,
   "id": "87a45557",
   "metadata": {},
   "outputs": [],
   "source": []
  }
 ],
 "metadata": {
  "kernelspec": {
   "display_name": "Python 3 (ipykernel)",
   "language": "python",
   "name": "python3"
  },
  "language_info": {
   "codemirror_mode": {
    "name": "ipython",
    "version": 3
   },
   "file_extension": ".py",
   "mimetype": "text/x-python",
   "name": "python",
   "nbconvert_exporter": "python",
   "pygments_lexer": "ipython3",
   "version": "3.10.9"
  }
 },
 "nbformat": 4,
 "nbformat_minor": 5
}
